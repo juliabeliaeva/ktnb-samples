{
 "cells": [
  {
   "cell_type": "markdown",
   "source": [
    "### Simple Game of Life"
   ],
   "metadata": {
    "collapsed": false
   }
  },
  {
   "cell_type": "code",
   "source": [
    "%useLatestDescriptors\n",
    "%use multik, lib-ext"
   ],
   "metadata": {
    "collapsed": false,
    "ExecuteTime": {
     "end_time": "2024-06-29T21:41:56.385602Z",
     "start_time": "2024-06-29T21:41:48.003951Z"
    }
   },
   "outputs": [],
   "execution_count": 1
  },
  {
   "cell_type": "markdown",
   "source": [
    "Utility functions to implement a game field based on multik arrays"
   ],
   "metadata": {
    "collapsed": false
   }
  },
  {
   "cell_type": "code",
   "metadata": {
    "ExecuteTime": {
     "end_time": "2024-06-29T21:41:57.019602Z",
     "start_time": "2024-06-29T21:41:56.388909Z"
    }
   },
   "source": [
    "fun MultiArray<Byte, D2>.alive(x: Int, y: Int) = this[y, x] > 0\n",
    "fun MultiArray<Byte, D2>.alive(coordinates: Pair<Int, Int>) = alive(coordinates.first, coordinates.second)\n",
    "fun MutableMultiArray<Byte, D2>.setAlive(x: Int, y: Int, value: Boolean = true) {\n",
    "    this[y, x] = if (value) 1 else 0\n",
    "}\n",
    "\n",
    "fun MultiIndexProgression.toIterable(): Iterable<IntArray> {\n",
    "    return object : Iterable<IntArray> {\n",
    "        override fun iterator(): Iterator<IntArray> {\n",
    "            return this@toIterable.iterator()\n",
    "        }\n",
    "    }\n",
    "}\n",
    "\n",
    "fun neighborIndices(x: Int, y: Int, shape: IntArray): Iterable<Pair<Int, Int>> {\n",
    "    val progression = intArrayOf(y - 1, x - 1)..intArrayOf(y + 1, x + 1)\n",
    "    return progression.toIterable().map {\n",
    "        intArrayOf(it[0].mod(shape[0]), it[1].mod(shape[1]))\n",
    "    }.map { it[1] to it[0] }.filter { it != x to y }\n",
    "}\n",
    "\n",
    "fun MultiArray<Byte, D2>.next(x: Int, y: Int): Boolean {\n",
    "    val slices = neighborIndices(x, y, shape)\n",
    "    val map = slices.map { alive(it) }\n",
    "    val aliveNeighbors = map.count { it }\n",
    "    if (alive(x, y)) {\n",
    "        return (aliveNeighbors == 2 || aliveNeighbors == 3)\n",
    "    }\n",
    "    return aliveNeighbors == 3\n",
    "}"
   ],
   "outputs": [],
   "execution_count": 2
  },
  {
   "cell_type": "markdown",
   "source": [
    "Game field class"
   ],
   "metadata": {
    "collapsed": false
   }
  },
  {
   "cell_type": "code",
   "metadata": {
    "ExecuteTime": {
     "end_time": "2024-06-29T21:41:57.288819Z",
     "start_time": "2024-06-29T21:41:57.022185Z"
    }
   },
   "source": [
    "import kotlin.random.Random\n",
    "\n",
    "class Field(initialState: D2Array<Byte>) {\n",
    "    private var pointer = 0\n",
    "    private val buffers: D3Array<Byte> = mk.stack(initialState, mk.zeros(initialState.shape, initialState.dtype))\n",
    "    val width: Int = buffers.shape[2]\n",
    "    val height: Int = buffers.shape[1]\n",
    "\n",
    "    constructor(width: Int, height: Int) : this(mk.zeros<Byte>(height, width))\n",
    "\n",
    "    private val _field: MutableMultiArray<Byte, D2> get() = buffers.writableView(pointer, axis = 0)\n",
    "    val field: MultiArray<Byte, D2> get() = _field\n",
    "\n",
    "    fun alive(x: Int, y: Int) = field.alive(x, y)\n",
    "\n",
    "    fun step() {\n",
    "        val nextField: MutableMultiArray<Byte, D2> = buffers.writableView(1 - pointer, axis = 0)\n",
    "        for (i in 0 until width) {\n",
    "            for (j in 0 until height) {\n",
    "                nextField.setAlive(i, j, field.next(i, j))\n",
    "            }\n",
    "        }\n",
    "\n",
    "        pointer = 1 - pointer\n",
    "    }\n",
    "\n",
    "    fun randomize() {\n",
    "        for (i in 0 until width) {\n",
    "            for (j in 0 until height) {\n",
    "                _field.setAlive(i, j, Random.nextBoolean())\n",
    "            }\n",
    "        }\n",
    "    }\n",
    "\n",
    "    override fun toString() = field.toString()\n",
    "}"
   ],
   "outputs": [],
   "execution_count": 3
  },
  {
   "cell_type": "markdown",
   "source": [
    "Test on a blinker"
   ],
   "metadata": {
    "collapsed": false
   }
  },
  {
   "cell_type": "code",
   "source": [
    "val field5x5 = Field(mk.zeros<Byte>(5, 5).also {\n",
    "    it.setAlive(1, 2)\n",
    "    it.setAlive(2, 2)\n",
    "    it.setAlive(3, 2)\n",
    "})\n",
    "repeat(3) {\n",
    "    DISPLAY(field5x5)\n",
    "    field5x5.step()\n",
    "}"
   ],
   "metadata": {
    "collapsed": false,
    "ExecuteTime": {
     "end_time": "2024-06-29T21:41:57.397109Z",
     "start_time": "2024-06-29T21:41:57.291076Z"
    }
   },
   "outputs": [
    {
     "data": {
      "text/plain": [
       "[[0, 0, 0, 0, 0],\n",
       "[0, 0, 0, 0, 0],\n",
       "[0, 1, 1, 1, 0],\n",
       "[0, 0, 0, 0, 0],\n",
       "[0, 0, 0, 0, 0]]"
      ]
     },
     "metadata": {},
     "output_type": "display_data"
    },
    {
     "data": {
      "text/plain": [
       "[[0, 0, 0, 0, 0],\n",
       "[0, 0, 1, 0, 0],\n",
       "[0, 0, 1, 0, 0],\n",
       "[0, 0, 1, 0, 0],\n",
       "[0, 0, 0, 0, 0]]"
      ]
     },
     "metadata": {},
     "output_type": "display_data"
    },
    {
     "data": {
      "text/plain": [
       "[[0, 0, 0, 0, 0],\n",
       "[0, 0, 0, 0, 0],\n",
       "[0, 1, 1, 1, 0],\n",
       "[0, 0, 0, 0, 0],\n",
       "[0, 0, 0, 0, 0]]"
      ]
     },
     "metadata": {},
     "output_type": "display_data"
    }
   ],
   "execution_count": 4
  },
  {
   "cell_type": "markdown",
   "source": [
    "Utility function to draw a field"
   ],
   "metadata": {
    "collapsed": false
   }
  },
  {
   "cell_type": "code",
   "source": [
    "import java.awt.Color\n",
    "import java.awt.image.BufferedImage\n",
    "\n",
    "fun Field.draw(\n",
    "    scale: Int, foreground: Color = Color(60, 101, 171),\n",
    "    background: Color = Color(28, 28, 28)\n",
    "): BufferedImage {\n",
    "    val image = BufferedImage(scale * width, scale * height, BufferedImage.TYPE_INT_RGB)\n",
    "    val graphics2D = image.createGraphics()\n",
    "\n",
    "    graphics2D.color = background\n",
    "    graphics2D.fillRect(0, 0, width * scale, height * scale)\n",
    "\n",
    "    graphics2D.color = foreground\n",
    "    for (i in 0 until width) {\n",
    "        for (j in 0 until height) {\n",
    "            if (alive(i, j)) {\n",
    "                graphics2D.fillRect(i * scale, j * scale, scale, scale)\n",
    "            }\n",
    "        }\n",
    "    }\n",
    "    graphics2D.dispose()\n",
    "    return image\n",
    "}"
   ],
   "metadata": {
    "collapsed": false,
    "ExecuteTime": {
     "end_time": "2024-06-29T21:41:57.522337Z",
     "start_time": "2024-06-29T21:41:57.398717Z"
    }
   },
   "outputs": [],
   "execution_count": 5
  },
  {
   "cell_type": "markdown",
   "source": [
    "Create the game field, update and draw it in a loop. Does not work in the IDE."
   ],
   "metadata": {
    "collapsed": false
   }
  },
  {
   "cell_type": "code",
   "source": [
    "val gameField = Field(100, 100)\n",
    "gameField.randomize()"
   ],
   "metadata": {
    "collapsed": false,
    "ExecuteTime": {
     "end_time": "2024-06-29T21:54:28.049967Z",
     "start_time": "2024-06-29T21:54:28.014824Z"
    }
   },
   "outputs": [],
   "execution_count": 16
  },
  {
   "cell_type": "code",
   "metadata": {
    "jupyter": {
     "is_executing": true
    },
    "ExecuteTime": {
     "start_time": "2024-06-29T21:54:30.300879Z"
    }
   },
   "source": [
    "import org.jetbrains.kotlinx.jupyter.ext.Image\n",
    "\n",
    "notebook.animate {\n",
    "  val frame = Frame(1.seconds, gameField.draw(4))\n",
    "  gameField.step()\n",
    "  frame\n",
    "}"
   ],
   "outputs": [
    {
     "data": {
      "image/png": "[encoded data removed]",
      "text/plain": [
       "class java.awt.image.BufferedImage: 400x400 px"
      ]
     },
     "metadata": {},
     "output_type": "display_data"
    }
   ],
   "execution_count": null
  }
 ],
 "metadata": {
  "kernelspec": {
   "display_name": "Kotlin",
   "language": "kotlin",
   "name": "kotlin"
  },
  "language_info": {
   "codemirror_mode": "text/x-kotlin",
   "file_extension": ".kt",
   "mimetype": "text/x-kotlin",
   "name": "kotlin",
   "nbconvert_exporter": "",
   "pygments_lexer": "kotlin",
   "version": "1.8.20"
  },
  "ktnbPluginMetadata": {
   "projectLibraries": []
  }
 },
 "nbformat": 4,
 "nbformat_minor": 1
}
