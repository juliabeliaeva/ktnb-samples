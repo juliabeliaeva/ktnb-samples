{
 "cells": [
  {
   "cell_type": "markdown",
   "source": [
    "### Simple Game of Life"
   ],
   "metadata": {
    "collapsed": false
   }
  },
  {
   "cell_type": "code",
   "execution_count": 1,
   "outputs": [],
   "source": [
    "%useLatestDescriptors\n",
    "%use multik, lib-ext"
   ],
   "metadata": {
    "collapsed": false,
    "ExecuteTime": {
     "end_time": "2023-05-13T03:45:07.534944188Z",
     "start_time": "2023-05-13T03:45:05.109822832Z"
    }
   }
  },
  {
   "cell_type": "markdown",
   "source": [
    "Utility functions to implement a game field based on multik arrays"
   ],
   "metadata": {
    "collapsed": false
   }
  },
  {
   "cell_type": "code",
   "execution_count": 2,
   "metadata": {
    "ExecuteTime": {
     "end_time": "2023-05-13T03:45:08.189584704Z",
     "start_time": "2023-05-13T03:45:07.536473192Z"
    }
   },
   "outputs": [],
   "source": [
    "fun MultiArray<Byte, D2>.alive(x: Int, y: Int) = this[y, x] > 0\n",
    "fun MultiArray<Byte, D2>.alive(coordinates: Pair<Int, Int>) = alive(coordinates.first, coordinates.second)\n",
    "fun MutableMultiArray<Byte, D2>.setAlive(x: Int, y: Int, value: Boolean = true) {\n",
    "    this[y, x] = if (value) 1 else 0\n",
    "}\n",
    "\n",
    "fun MultiIndexProgression.toIterable(): Iterable<IntArray> {\n",
    "    return object : Iterable<IntArray> {\n",
    "        override fun iterator(): Iterator<IntArray> {\n",
    "            return this@toIterable.iterator()\n",
    "        }\n",
    "    }\n",
    "}\n",
    "\n",
    "fun neighborIndices(x: Int, y: Int, shape: IntArray): Iterable<Pair<Int, Int>> {\n",
    "    val progression = intArrayOf(y - 1, x - 1)..intArrayOf(y + 1, x + 1)\n",
    "    return progression.toIterable().map {\n",
    "        intArrayOf(it[0].mod(shape[0]), it[1].mod(shape[1]))\n",
    "    }.map { it[1] to it[0] }.filter { it != x to y }\n",
    "}\n",
    "\n",
    "fun MultiArray<Byte, D2>.next(x: Int, y: Int): Boolean {\n",
    "    val slices = neighborIndices(x, y, shape)\n",
    "    val map = slices.map { alive(it) }\n",
    "    val aliveNeighbors = map.count { it }\n",
    "    if (alive(x, y)) {\n",
    "        return (aliveNeighbors == 2 || aliveNeighbors == 3)\n",
    "    }\n",
    "    return aliveNeighbors == 3\n",
    "}"
   ]
  },
  {
   "cell_type": "markdown",
   "source": [
    "Game field class"
   ],
   "metadata": {
    "collapsed": false
   }
  },
  {
   "cell_type": "code",
   "execution_count": 3,
   "metadata": {
    "ExecuteTime": {
     "end_time": "2023-05-13T03:45:08.477355726Z",
     "start_time": "2023-05-13T03:45:08.191137182Z"
    }
   },
   "outputs": [],
   "source": [
    "import kotlin.random.Random\n",
    "\n",
    "class Field(initialState: D2Array<Byte>) {\n",
    "    private var pointer = 0\n",
    "    private val buffers: D3Array<Byte> = mk.stack(initialState, mk.zeros(initialState.shape, initialState.dtype))\n",
    "    val width: Int = buffers.shape[2]\n",
    "    val height: Int = buffers.shape[1]\n",
    "\n",
    "    constructor(width: Int, height: Int) : this(mk.zeros<Byte>(height, width))\n",
    "\n",
    "    private val _field: MutableMultiArray<Byte, D2> get() = buffers.writableView(pointer, axis = 0)\n",
    "    val field: MultiArray<Byte, D2> get() = _field\n",
    "\n",
    "    fun alive(x: Int, y: Int) = field.alive(x, y)\n",
    "\n",
    "    fun step() {\n",
    "        val nextField: MutableMultiArray<Byte, D2> = buffers.writableView(1 - pointer, axis = 0)\n",
    "        for (i in 0 until width) {\n",
    "            for (j in 0 until height) {\n",
    "                nextField.setAlive(i, j, field.next(i, j))\n",
    "            }\n",
    "        }\n",
    "\n",
    "        pointer = 1 - pointer\n",
    "    }\n",
    "\n",
    "    fun randomize() {\n",
    "        for (i in 0 until width) {\n",
    "            for (j in 0 until height) {\n",
    "                _field.setAlive(i, j, Random.nextBoolean())\n",
    "            }\n",
    "        }\n",
    "    }\n",
    "\n",
    "    override fun toString() = field.toString()\n",
    "}"
   ]
  },
  {
   "cell_type": "markdown",
   "source": [
    "Test on a blinker"
   ],
   "metadata": {
    "collapsed": false
   }
  },
  {
   "cell_type": "code",
   "execution_count": 4,
   "outputs": [
    {
     "data": {
      "text/plain": "[[0, 0, 0, 0, 0],\n[0, 0, 0, 0, 0],\n[0, 1, 1, 1, 0],\n[0, 0, 0, 0, 0],\n[0, 0, 0, 0, 0]]"
     },
     "metadata": {},
     "output_type": "display_data"
    },
    {
     "data": {
      "text/plain": "[[0, 0, 0, 0, 0],\n[0, 0, 1, 0, 0],\n[0, 0, 1, 0, 0],\n[0, 0, 1, 0, 0],\n[0, 0, 0, 0, 0]]"
     },
     "metadata": {},
     "output_type": "display_data"
    },
    {
     "data": {
      "text/plain": "[[0, 0, 0, 0, 0],\n[0, 0, 0, 0, 0],\n[0, 1, 1, 1, 0],\n[0, 0, 0, 0, 0],\n[0, 0, 0, 0, 0]]"
     },
     "metadata": {},
     "output_type": "display_data"
    }
   ],
   "source": [
    "val field5x5 = Field(mk.zeros<Byte>(5, 5).also {\n",
    "    it.setAlive(1, 2)\n",
    "    it.setAlive(2, 2)\n",
    "    it.setAlive(3, 2)\n",
    "})\n",
    "repeat(3) {\n",
    "    DISPLAY(field5x5)\n",
    "    field5x5.step()\n",
    "}"
   ],
   "metadata": {
    "collapsed": false,
    "ExecuteTime": {
     "end_time": "2023-05-13T03:45:08.612819017Z",
     "start_time": "2023-05-13T03:45:08.476675077Z"
    }
   }
  },
  {
   "cell_type": "markdown",
   "source": [
    "Utility function to draw a field"
   ],
   "metadata": {
    "collapsed": false
   }
  },
  {
   "cell_type": "code",
   "execution_count": 5,
   "outputs": [],
   "source": [
    "import java.awt.Color\n",
    "import java.awt.image.BufferedImage\n",
    "\n",
    "fun Field.draw(\n",
    "    scale: Int, foreground: Color = Color(60, 101, 171),\n",
    "    background: Color = Color(28, 28, 28)\n",
    "): BufferedImage {\n",
    "    val image = BufferedImage(scale * width, scale * height, BufferedImage.TYPE_INT_RGB)\n",
    "    val graphics2D = image.createGraphics()\n",
    "\n",
    "    graphics2D.color = background\n",
    "    graphics2D.fillRect(0, 0, width * scale, height * scale)\n",
    "\n",
    "    graphics2D.color = foreground\n",
    "    for (i in 0 until width) {\n",
    "        for (j in 0 until height) {\n",
    "            if (alive(i, j)) {\n",
    "                graphics2D.fillRect(i * scale, j * scale, scale, scale)\n",
    "            }\n",
    "        }\n",
    "    }\n",
    "    graphics2D.dispose()\n",
    "    return image\n",
    "}"
   ],
   "metadata": {
    "collapsed": false,
    "ExecuteTime": {
     "end_time": "2023-05-13T03:45:08.759087003Z",
     "start_time": "2023-05-13T03:45:08.613938091Z"
    }
   }
  },
  {
   "cell_type": "markdown",
   "source": [
    "Create the game field, update and draw it in a loop. Does not work in the IDE."
   ],
   "metadata": {
    "collapsed": false
   }
  },
  {
   "cell_type": "code",
   "execution_count": 6,
   "outputs": [],
   "source": [
    "val gameField = Field(100, 100)\n",
    "gameField.randomize()"
   ],
   "metadata": {
    "collapsed": false,
    "ExecuteTime": {
     "end_time": "2023-05-13T03:45:08.797666260Z",
     "start_time": "2023-05-13T03:45:08.747381123Z"
    }
   }
  },
  {
   "cell_type": "code",
   "execution_count": null,
   "metadata": {
    "ExecuteTime": {
     "end_time": "2023-05-13T03:50:43.777133344Z",
     "start_time": "2023-05-13T03:45:08.794972656Z"
    }
   },
   "outputs": [
    {
     "data": {
      "text/html": "<img src=\"data:image/png;base64,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\"/>"
     },
     "metadata": {},
     "output_type": "display_data"
    },
    {
     "name": "stderr",
     "output_type": "stream",
     "text": [
      "The execution was interrupted"
     ]
    }
   ],
   "source": [
    "import org.jetbrains.kotlinx.jupyter.ext.Image\n",
    "import java.util.UUID\n",
    "\n",
    "val imageId = UUID.randomUUID().toString()\n",
    "DISPLAY(Image(gameField.draw(2)), imageId)\n",
    "\n",
    "while (true) {\n",
    "    Thread.sleep(1000)\n",
    "    gameField.step()\n",
    "    UPDATE_DISPLAY(gameField.draw(2), imageId)\n",
    "}"
   ]
  },
  {
   "cell_type": "code",
   "execution_count": 8,
   "outputs": [
    {
     "data": {
      "image/png": "[encoded data removed]",
      "text/plain": "class java.awt.image.BufferedImage: 200x200 px"
     },
     "execution_count": 8,
     "metadata": {},
     "output_type": "execute_result"
    }
   ],
   "source": [
    "gameField.draw(2)"
   ],
   "metadata": {
    "collapsed": false
   }
  }
 ],
 "metadata": {
  "kernelspec": {
   "display_name": "Kotlin",
   "language": "kotlin",
   "name": "kotlin"
  },
  "ktnbPluginMetadata": {
   "isAddProjectLibrariesToClasspath": false
  },
  "language_info": {
   "codemirror_mode": "text/x-kotlin",
   "file_extension": ".kt",
   "mimetype": "text/x-kotlin",
   "name": "kotlin",
   "nbconvert_exporter": "",
   "pygments_lexer": "kotlin",
   "version": "1.8.20"
  }
 },
 "nbformat": 4,
 "nbformat_minor": 1
}
